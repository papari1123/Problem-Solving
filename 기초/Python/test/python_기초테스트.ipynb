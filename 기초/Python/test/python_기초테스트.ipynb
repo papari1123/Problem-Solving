{
 "cells": [
  {
   "cell_type": "markdown",
   "id": "a1034d4d",
   "metadata": {},
   "source": [
    "# Part_1 Input, Out\n",
    "\n",
    "1. 한줄 code로 특정 입력값을 a,b 두 개의 변수에 저장하기.\n",
    "2. map을 사용해, c,d,e 세 개의 변수를 한 번에 입력받아 int형식으로 저장하기.\n",
    "3. 2와 동일하되, c1,d1,e1 분리하는 문자열을 _로 지정해 받기\n",
    "4. 값을 한줄로 여러 개 동시에 출력하기'\n",
    "5. 4와 동일하되, 출력값 사이에 문자를 _로 지정하고 print 끝에 0 출력'b"
   ]
  },
  {
   "cell_type": "code",
   "execution_count": 154,
   "id": "3642b709",
   "metadata": {},
   "outputs": [
    {
     "name": "stdout",
     "output_type": "stream",
     "text": [
      "2 3\n",
      "2 3 4\n",
      "4_3_7\n",
      "4 3 7\n",
      "4_3_70"
     ]
    }
   ],
   "source": [
    "# your code here.\n",
    "a,b = input().split()\n",
    "c,d,e = map(int,input().split())\n",
    "c1,d1,e1 = map(int,input().split('_'))\n",
    "print(c1,d1,e1)\n",
    "print(c1,d1,e1,sep='_',end='0')"
   ]
  },
  {
   "cell_type": "code",
   "execution_count": 155,
   "id": "72feed35",
   "metadata": {},
   "outputs": [
    {
     "name": "stdout",
     "output_type": "stream",
     "text": [
      "1: a,b  2 3\n",
      "2: c,d,e 2 3 4\n",
      "3: c1,d1,e1 4 3 7\n"
     ]
    }
   ],
   "source": [
    "\"\"\"\n",
    "test result\n",
    "\"\"\"\n",
    "print('1: a,b ',a,b)\n",
    "print('2: c,d,e',c,d,e)\n",
    "print('3: c1,d1,e1',c1,d1,e1)"
   ]
  },
  {
   "cell_type": "markdown",
   "id": "da6ef9f5",
   "metadata": {},
   "source": [
    "# Part _2 List, Tuple\n",
    "\n",
    "1. 0~9까지 리스트 a 생성 (수기작성 하지말 것)\n",
    "2. 0~9까지 듀플 b 생성\n",
    "3. 리스트 a에 요소 5 추가\n",
    "4. 리스트 a에 리스트 확장 : [10,12] *리스트가 요소에 추가되는게 아니라 확장임.\n",
    "5. 리스트 a의 2 번째 인덱스에 100추가\n",
    "6. 리스트 a의 4 번째 인덱스부터 200,300을 동시에 추가 * 리스트 [200,300]를 추가하는 것이 아님.\n",
    "7. 리스트 a의 마지막 요소 삭제.\n",
    "8. 리스트 a의 0 번째 요소 삭제 \n",
    "9. 리스트 a의 200 값 삭제 (특정값 삭제)\n",
    "\n",
    "10. 리스트를 활용해 stack을 구현한다. 리스트 s를 이용해 1,2,3을 차례로 push 하고, pop을 한 번한다.\n",
    "11. 리스트를 활용해 queue를 구현한다. 리스트 q를 이용해 1,2,3을 차례로 put 하고, get을 한 번한다.\n",
    "12. 리스트와 deque lib를 활용해 deque를 구현한다. 리스트 d를 이용해 1,2,3을 차례로 put하고, 앞 뒤로 한 번씩 삭제한다.\n",
    "13. 리스트 a의 5 번째 값과 5의 개수를 카운트한다.\n",
    "14. 리스트 a를 a1에 할당하고, a를 복사해 a2를 만든 뒤, a의 6 번째 요소를 제거한다.\n",
    "15. a==b 및 a is b 조건 연산자를 이용해 a,a1,a2가 서로 동일한 객체인지, 값이 동일한지 확인한다.\n",
    "16. 리스트 a의 인덱스와 요소값을 리스트로 출력할 수 있는 이중리스트 aa를 구현한다. 0번째 요소는 제외하고 출력\n",
    "17. list comprehension을 이용해 0~10에서 짝홀을 하나씩 골라 만든 모든 subset을 가진 리스트 c를 생성한다. * 순서는 [0,1],[2,1]..[8,9]\n",
    "18. list comprehension을 이용해 0~10에서 홀수/2의 요소만을 가진 리스트 d를 생성하고 이를 내림한 리스트 e를 생성한다."
   ]
  },
  {
   "cell_type": "code",
   "execution_count": 165,
   "id": "be69a912",
   "metadata": {},
   "outputs": [
    {
     "name": "stdout",
     "output_type": "stream",
     "text": [
      "2\n",
      "True True False False\n"
     ]
    }
   ],
   "source": [
    "from collections import deque\n",
    "# your code here."
   ]
  },
  {
   "cell_type": "code",
   "execution_count": 166,
   "id": "40a7c3b3",
   "metadata": {},
   "outputs": [
    {
     "name": "stdout",
     "output_type": "stream",
     "text": [
      "a:  [1, 300, 100, 2, 3, 4, 6, 7, 8, 9, 5, 10] False\n",
      "b:  (0, 1, 2, 3, 4, 5, 6, 7, 8, 9) True\n",
      "s,q,d [1, 2] [1, 2] [0.5, 1.5, 2.5, 3.5, 4.5] True False False\n",
      "a1:  [1, 300, 100, 2, 3, 4, 6, 7, 8, 9, 5, 10] False\n",
      "a2:  [1, 300, 100, 2, 3, 4, 5, 6, 7, 8, 9, 5, 10] False\n",
      "aa:  [[1, 1], [2, 300], [3, 100], [4, 2], [5, 3], [6, 4], [7, 6], [8, 7], [9, 8], [10, 9], [11, 5], [12, 10]] False\n",
      "c:  [[0, 1], [0, 3], [0, 5], [0, 7], [0, 9], [2, 1], [2, 3], [2, 5], [2, 7], [2, 9], [4, 1], [4, 3], [4, 5], [4, 7], [4, 9], [6, 1], [6, 3], [6, 5], [6, 7], [6, 9], [8, 1], [8, 3], [8, 5], [8, 7], [8, 9]] True\n",
      "d:  [0.5, 1.5, 2.5, 3.5, 4.5] True\n",
      "e:  [0, 1, 2, 3, 4] True\n"
     ]
    },
    {
     "data": {
      "text/plain": [
       "'\\nanswer\\n\\nfrom collections import deque\\na = [i for i in range(10)]\\nb = tuple(i for i in range(10))\\na.append(5)\\na.extend([10,12])\\na.insert(2,100)\\na[4:4] = [200,300]\\na.pop()\\na.pop(0)\\na.remove(200)\\ns = []\\ns.append(1)\\ns.append(2)\\ns.append(3)\\ns.pop()\\nq = []\\nq.append(1)\\nq.append(2)\\nq.append(3)\\nq.pop(0)\\nd = deque([])\\nd.append(1)\\nd.append(2)\\nd.append(3)\\nd.popleft()\\nd.pop()\\nprint(a[5],a.count(5))\\na1 = a\\na2 = a.copy()\\na.pop(6)\\nprint(a==a1,a==a2,a1==a2,a is a1, a is a2, a1 is a2)\\naa = [[i,v] for i,v in enumerate(a,start=1)]\\nc = [[i,j] for i in range(0,10) if i%2==0 for j in range(0,10) if j%2==1]\\nd = [i/2 for i in range(0,10) if i%2==1]\\ne = list(map(int,d))\\n'"
      ]
     },
     "execution_count": 166,
     "metadata": {},
     "output_type": "execute_result"
    }
   ],
   "source": [
    "\"\"\"\n",
    "test result\n",
    "\"\"\"\n",
    "print('a: ',a,a==[1, 100, 2, 300, 3, 4, 6, 7, 8, 9, 5, 10])\n",
    "print('b: ',b,b==(0, 1, 2, 3, 4, 5, 6, 7, 8, 9)) \n",
    "print('s,q,d',s,q,d, s==[1,2],q==[2,3],d==deque([2]))\n",
    "print('a1: ',a1,a1==[1, 100, 2, 300, 3, 4, 6, 7, 8, 9, 5, 10])\n",
    "print('a2: ',a2,a2==[1, 100, 2, 300, 3, 4, 5, 6, 7, 8, 9, 5, 10])\n",
    "print('aa: ',aa,aa==[[1, 1], [2, 100], [3, 2], [4, 300], [5, 3], [6, 4], [7, 6], [8, 7], [9, 8], [10, 9], [11, 5], [12, 10]])\n",
    "print('c: ',c ,c==[[0, 1], [0, 3], [0, 5], [0, 7], [0, 9], [2, 1], [2, 3], [2, 5], [2, 7], [2, 9], [4, 1], [4, 3], [4, 5], [4, 7], [4, 9], [6, 1], [6, 3], [6, 5], [6, 7], [6, 9], [8, 1], [8, 3], [8, 5], [8, 7], [8, 9]])\n",
    "print('d: ',d, d==[0.5, 1.5, 2.5, 3.5, 4.5])\n",
    "print('e: ',e, e==[0, 1, 2, 3, 4])\n",
    "\n",
    "\"\"\"\n",
    "answer\n",
    "\n",
    "from collections import deque\n",
    "a = [i for i in range(10)]\n",
    "b = tuple(i for i in range(10))\n",
    "a.append(5)\n",
    "a.extend([10,12])\n",
    "a.insert(2,100)\n",
    "a[4:4] = [200,300]\n",
    "a.pop()\n",
    "a.pop(0)\n",
    "a.remove(200)\n",
    "s = []\n",
    "s.append(1)\n",
    "s.append(2)\n",
    "s.append(3)\n",
    "s.pop()\n",
    "q = []\n",
    "q.append(1)\n",
    "q.append(2)\n",
    "q.append(3)\n",
    "q.pop(0)\n",
    "d = deque([])\n",
    "d.append(1)\n",
    "d.append(2)\n",
    "d.append(3)\n",
    "d.popleft()\n",
    "d.pop()\n",
    "print(a[5],a.count(5))\n",
    "a1 = a\n",
    "a2 = a.copy()\n",
    "a.pop(6)\n",
    "print(a==a1,a==a2,a1==a2,a is a1, a is a2, a1 is a2)\n",
    "aa = [[i,v] for i,v in enumerate(a,start=1)]\n",
    "c = [[i,j] for i in range(0,10) if i%2==0 for j in range(0,10) if j%2==1]\n",
    "d = [i/2 for i in range(0,10) if i%2==1]\n",
    "e = list(map(int,d))\n",
    "\"\"\"\n",
    "\n"
   ]
  },
  {
   "cell_type": "markdown",
   "id": "34503478",
   "metadata": {},
   "source": [
    "# Part_3 Sequence, Slice\n",
    "1. 0~9까지 가지는 리스트 a를 만들고 5가 있고, 15가 없는지 확인하는 조건 연산자를 이용해 결과를 a5,a15에 저장\n",
    "2. 10~19까지 가지는 리스트 b를 만들고 a와 b의 시퀀스 객체를 병합해 c에 할당\n",
    "3. c의 시퀀스 길이를 len_c에 저장\n",
    "4. c의 마지막 요소를 last_c에 저장\n",
    "5. 슬라이싱을 이용해 리스트 c의 인덱스 2부터 5, 3부터 마지막제외, 2부터 12까지나 2씩 증가, 2부터 끝까지, 0번째부터 8까지, 2부터 2씩 끝까지\n",
    "   각각 c1,c2,c3,c4,c5,c6에 저장\n",
    "6. c에서 2~5번째 인덱스 요소 제거. *"
   ]
  },
  {
   "cell_type": "code",
   "execution_count": 167,
   "id": "41e0e266",
   "metadata": {},
   "outputs": [],
   "source": [
    "#your code here."
   ]
  },
  {
   "cell_type": "code",
   "execution_count": 168,
   "id": "65ec4748",
   "metadata": {},
   "outputs": [
    {
     "name": "stdout",
     "output_type": "stream",
     "text": [
      "a5,a15:  True True\n",
      "c:  [0, 1, 6, 7, 8, 9, 10, 11, 12, 13, 14, 15, 16, 17, 18, 19] True\n",
      "len_c,last_c:  20 19 True True\n",
      "c1  [2, 3, 4, 5] True\n",
      "c2  [3, 4, 5, 6, 7, 8, 9, 10, 11, 12, 13, 14, 15, 16, 17, 18] True\n",
      "c3  [2, 4, 6, 8, 10] True\n",
      "c4  [2, 3, 4, 5, 6, 7, 8, 9, 10, 11, 12, 13, 14, 15, 16, 17, 18, 19] True\n",
      "c5  [0, 1, 2, 3, 4, 5, 6, 7] True\n",
      "c6  [2, 4, 6, 8, 10, 12, 14, 16, 18] True\n"
     ]
    },
    {
     "data": {
      "text/plain": [
       "'\\nanswer\\n\\n#your code here.\\na = list(range(0,10)) #list comprehension을 이용해도 됨.\\na5 = 5 in a\\na15 = 15 not in a\\nb = list(range(10,20))\\nc = a + b\\nlen_c = len(c)\\nlast_c = c[-1]\\nc1 = c[2:6]\\nc2 = c[3:-1]\\nc3 = c[2:12:2]\\nc4 = c[2:]\\nc5 = c[:8]\\nc6 = c[2::2]\\ndel c[2:6]\\n'"
      ]
     },
     "execution_count": 168,
     "metadata": {},
     "output_type": "execute_result"
    }
   ],
   "source": [
    "\"\"\"\n",
    "test result\n",
    "\"\"\"\n",
    "print('a5,a15: ',a5,a15)\n",
    "print('c: ',c,c==[0, 1, 6, 7, 8, 9, 10, 11, 12, 13, 14, 15, 16, 17, 18, 19])\n",
    "print('len_c,last_c: ',len_c,last_c,len_c==20,last_c==19)\n",
    "print('c1 ',c1,c1==[2, 3, 4, 5])\n",
    "print('c2 ',c2,c2==[3, 4, 5, 6, 7, 8, 9, 10, 11, 12, 13, 14, 15, 16, 17, 18])\n",
    "print('c3 ',c3,c3==[2, 4, 6, 8, 10])\n",
    "print('c4 ',c4,c4==[2, 3, 4, 5, 6, 7, 8, 9, 10, 11, 12, 13, 14, 15, 16, 17, 18, 19])\n",
    "print('c5 ',c5,c5==[0, 1, 2, 3, 4, 5, 6, 7])\n",
    "print('c6 ',c6,c6==[2, 4, 6, 8, 10, 12, 14, 16, 18])\n",
    "\n",
    "\"\"\"\n",
    "answer\n",
    "\n",
    "#your code here.\n",
    "a = list(range(0,10)) #list comprehension을 이용해도 됨.\n",
    "a5 = 5 in a\n",
    "a15 = 15 not in a\n",
    "b = list(range(10,20))\n",
    "c = a + b\n",
    "len_c = len(c)\n",
    "last_c = c[-1]\n",
    "c1 = c[2:6]\n",
    "c2 = c[3:-1]\n",
    "c3 = c[2:12:2]\n",
    "c4 = c[2:]\n",
    "c5 = c[:8]\n",
    "c6 = c[2::2]\n",
    "del c[2:6]\n",
    "\"\"\""
   ]
  },
  {
   "cell_type": "markdown",
   "id": "867b77e5",
   "metadata": {},
   "source": [
    "# Part_4 dictionary\n",
    "1. dictionary a를 생성. key:값  ->  c:1, java:2, python:3\n",
    "2. dict a에 값이 할당되지 않은 키 값 cpp와 4가 할당된 go를 추가\n",
    "3. dict a에서 cpp값에 5를 할당하고, 새로운 key:value 4:'four'를 추가\n",
    "4. dict a에서 java의 키를 가지는 요소를 삭제\n",
    "5. dict a에서 verilog를 키로 가지는 값을 출력하되, 없으면 6을 가지는 a1값 생성\n",
    "6. dict a에서 모든 key-value 쌍, key, value를 각각 list kv, k, v에 할당. *\n",
    "7. A,B,C,D 요소를 가진 list b 생성 후, list b를 키값 리스트로 가지되, 각 요소의 인덱스값을 값으로 하는 dict c 생성\n",
    "8. list b를 key로 하고 1,3,6,9를 요소로 가지는 list bv를 value로 하는 dict d 생성 *"
   ]
  },
  {
   "cell_type": "code",
   "execution_count": 173,
   "id": "99939ce3",
   "metadata": {
    "scrolled": true
   },
   "outputs": [],
   "source": [
    "#your code here.\n"
   ]
  },
  {
   "cell_type": "code",
   "execution_count": 174,
   "id": "a96b42ff",
   "metadata": {},
   "outputs": [
    {
     "name": "stdout",
     "output_type": "stream",
     "text": [
      "a:  {'c': 1, 'python': 3, 'cpp': 5, 'go': 4, 4: 'four'} True\n",
      "a1:  6 True\n",
      "kv:  [('c', 1), ('python', 3), ('cpp', 5), ('go', 4), (4, 'four')] True\n",
      "k:  ['c', 'python', 'cpp', 'go', 4] True\n",
      "v:  [1, 3, 5, 4, 'four'] True\n",
      "c:  {'A': 0, 'B': 1, 'C': 2, 'D': 3} True\n",
      "d:  {'A': 1, 'B': 3, 'C': 6, 'D': 9} True\n"
     ]
    },
    {
     "data": {
      "text/plain": [
       "\"\\nanswer\\n\\na= {'c':1,'java':2,'python':3}\\na.setdefault('cpp')\\na.setdefault('go',4)\\na.update({'cpp':5,4:'four'})  # a['cpp'] =4 도 동일\\na.pop('java')\\na1 = a.get('verilog',6)\\nkv = list(a.items())\\nk = list(a.keys())\\nv = list(a.values())\\nb = ['A','B','C','D']\\nc = {key:value for value, key in enumerate(b)} \\nbv = [1,3,6,9]\\nd = dict(zip(b,bv))    \\n\\n\""
      ]
     },
     "execution_count": 174,
     "metadata": {},
     "output_type": "execute_result"
    }
   ],
   "source": [
    "\"\"\"\n",
    "test result\n",
    "\"\"\"\n",
    "print('a: ',a,a=={'c': 1, 'python': 3, 'cpp': 5, 'go': 4, 4: 'four'})\n",
    "print('a1: ',a1,a1==6)\n",
    "print('kv: ',kv, kv==[('c', 1), ('python', 3), ('cpp', 5), ('go', 4), (4, 'four')])\n",
    "print('k: ',k,k==['c', 'python', 'cpp', 'go', 4])\n",
    "print('v: ',v,v==[1, 3, 5, 4, 'four'])\n",
    "print('c: ',c,c=={'A': 0, 'B': 1, 'C': 2, 'D': 3})\n",
    "print('d: ',d,d=={'A': 1, 'B': 3, 'C': 6, 'D': 9})\n",
    "\n",
    "\"\"\"\n",
    "answer\n",
    "\n",
    "a= {'c':1,'java':2,'python':3}\n",
    "a.setdefault('cpp')\n",
    "a.setdefault('go',4)\n",
    "a.update({'cpp':5,4:'four'})  # a['cpp'] =4 도 동일\n",
    "a.pop('java')\n",
    "a1 = a.get('verilog',6)\n",
    "kv = list(a.items())\n",
    "k = list(a.keys())\n",
    "v = list(a.values())\n",
    "b = ['A','B','C','D']\n",
    "c = {key:value for value, key in enumerate(b)} \n",
    "bv = [1,3,6,9]\n",
    "d = dict(zip(b,bv))    \n",
    "\n",
    "\"\"\""
   ]
  },
  {
   "cell_type": "markdown",
   "id": "0d690a1e",
   "metadata": {},
   "source": [
    "# Part_5 for range\n",
    "1. for과 range를 이용해 10부터 2씩 감소해 0까지 값을 리스트 a에 저장\n",
    "2. reversed 를 이용해 9부터 0까지 값을 리스트 b에 저장 *\n",
    "3. 시퀀스 객체인 리스트 a와 for을 이용해 리스트 c에 a의 요소를 append."
   ]
  },
  {
   "cell_type": "code",
   "execution_count": 178,
   "id": "a735c00a",
   "metadata": {},
   "outputs": [],
   "source": [
    "# your code here.\n"
   ]
  },
  {
   "cell_type": "code",
   "execution_count": 179,
   "id": "4395f7e0",
   "metadata": {},
   "outputs": [
    {
     "name": "stdout",
     "output_type": "stream",
     "text": [
      "a:  [10, 8, 6, 4, 2, 0] True\n",
      "b:  [9, 8, 7, 6, 5, 4, 3, 2, 1, 0] True\n",
      "c:  [10, 8, 6, 4, 2, 0] True\n"
     ]
    },
    {
     "data": {
      "text/plain": [
       "'\\nanswer\\n\\na = []\\nb = []\\nc = []\\nfor i in range(10,-1,-2):\\n    a.append(i)\\nfor i in reversed(range(10)):\\n    b.append(i)\\nfor i in a:\\n    c.append(i)\\n'"
      ]
     },
     "execution_count": 179,
     "metadata": {},
     "output_type": "execute_result"
    }
   ],
   "source": [
    "\"\"\"\n",
    "test result\n",
    "\"\"\"\n",
    "print('a: ',a, a== [10, 8, 6, 4, 2, 0])\n",
    "print('b: ',b, b== [9, 8, 7, 6, 5, 4, 3, 2, 1, 0])\n",
    "print('c: ',c, c== [10, 8, 6, 4, 2, 0])\n",
    "\n",
    "\"\"\"\n",
    "answer\n",
    "\n",
    "a = []\n",
    "b = []\n",
    "c = []\n",
    "for i in range(10,-1,-2):\n",
    "    a.append(i)\n",
    "for i in reversed(range(10)):\n",
    "    b.append(i)\n",
    "for i in a:\n",
    "    c.append(i)\n",
    "\"\"\""
   ]
  },
  {
   "cell_type": "markdown",
   "id": "40de5402",
   "metadata": {},
   "source": [
    "# Part_6 multi dimensional array\n",
    "1. list comprehension을 이용해 [[1,2],[3,4],[5,6]] 리스트 a 생성.\n",
    "2. list comprehension을 이용 리스트 a의 요소 순서를 바꾼 [[2,1],[4,3],[6,5]] 리스트 b 생성\n",
    "3. list comprehension을 이용해 3x5로 모든 요소가 0의 값을 가지는 2차원 리스트 c 생성\n",
    "4. list comprehension을 이용해 행렬 인덱스 i,j를 더한 값을 요소로 가지는 3x5 2차원 리스트 d 생성\n",
    "5. 단순 객체복제와 얕은 복사, 그리고 깊은 복사를 알기 위해 리스트 e를 객체 복제한 e1, 얕은 복사한 e2, 깊은 복사한 e3를 만든다.\n",
    "   리스트 e를 [2,[1,2,3],[1,2,3]]으로 변경하되, e[2] = [1,2,3], e[3]append(3) 을 이용한다."
   ]
  },
  {
   "cell_type": "code",
   "execution_count": 184,
   "id": "2394c314",
   "metadata": {
    "scrolled": false
   },
   "outputs": [
    {
     "data": {
      "text/plain": [
       "'a'"
      ]
     },
     "execution_count": 184,
     "metadata": {},
     "output_type": "execute_result"
    }
   ],
   "source": [
    "e = [1,'a',[1,2,3,4],[1,2]]\n",
    "import copy\n",
    "\n",
    "#your code here.\n"
   ]
  },
  {
   "cell_type": "code",
   "execution_count": 185,
   "id": "8e7dca4c",
   "metadata": {},
   "outputs": [
    {
     "name": "stdout",
     "output_type": "stream",
     "text": [
      "a:  [[1, 2], [3, 4], [5, 6]] True\n",
      "b:  [[2, 1], [4, 3], [6, 5]] True\n",
      "c:  [[0, 0, 0, 0, 0], [0, 0, 0, 0, 0], [0, 0, 0, 0, 0]] True\n",
      "d:  [[0, 1, 2, 3, 4], [1, 2, 3, 4, 5], [2, 3, 4, 5, 6]] True\n",
      "e:  [2, [1, 2, 3], [1, 2, 3]] True\n",
      "e1:  [2, [1, 2, 3], [1, 2, 3]] True\n",
      "e2:  [1, 'a', [1, 2, 3, 4], [1, 2, 3]] True\n",
      "e3:  [1, 'a', [1, 2, 3, 4], [1, 2]] True\n"
     ]
    },
    {
     "data": {
      "text/plain": [
       "\"\\nanswer\\n\\nimport copy\\na = [[2*i+1,2*(i+1)] for i in range(3)]\\nb = [[x,y] for y,x in a]\\nc = [[0]*5 for _ in range(3)]\\nd = [[i+j for j in range(5)] for i in range(3)]\\ne = [1,'a',[1,2,3,4],[1,2]]\\ne1 = e\\ne2 = copy.copy(e)\\ne3 = copy.deepcopy(e)\\ne[0] = 2\\ne[2] = [1,2,3]\\ne[3].append(3)\\ne.remove('a')\\n\\n\""
      ]
     },
     "execution_count": 185,
     "metadata": {},
     "output_type": "execute_result"
    }
   ],
   "source": [
    "\"\"\"\n",
    "test result\n",
    "\"\"\"\n",
    "print('a: ',a,a==[[1, 2], [3, 4], [5, 6]])\n",
    "print('b: ',b,b==[[2, 1], [4, 3], [6, 5]])\n",
    "print('c: ',c,c==[[0, 0, 0, 0, 0], [0, 0, 0, 0, 0], [0, 0, 0, 0, 0]])\n",
    "print('d: ',d,d==[[0, 1, 2, 3, 4], [1, 2, 3, 4, 5], [2, 3, 4, 5, 6]])\n",
    "print('e: ',e,e==[2, [1, 2, 3], [1, 2, 3]])\n",
    "print('e1: ',e1,e1==[2, [1, 2, 3], [1, 2, 3]])\n",
    "print('e2: ',e2,e2==[1, 'a', [1, 2, 3, 4], [1, 2, 3]])\n",
    "print('e3: ',e3,e3==[1, 'a', [1, 2, 3, 4], [1, 2]])\n",
    "\n",
    "\"\"\"\n",
    "answer\n",
    "\n",
    "import copy\n",
    "a = [[2*i+1,2*(i+1)] for i in range(3)]\n",
    "b = [[x,y] for y,x in a]\n",
    "c = [[0]*5 for _ in range(3)]\n",
    "d = [[i+j for j in range(5)] for i in range(3)]\n",
    "e = [1,'a',[1,2,3,4],[1,2]]\n",
    "e1 = e\n",
    "e2 = copy.copy(e)\n",
    "e3 = copy.deepcopy(e)\n",
    "e[0] = 2\n",
    "e[2] = [1,2,3]\n",
    "e[3].append(3)\n",
    "e.remove('a')\n",
    "\n",
    "\"\"\""
   ]
  },
  {
   "cell_type": "markdown",
   "id": "d64dabf4",
   "metadata": {},
   "source": [
    "# Part_7 Character, string\n",
    "\n",
    "1. [1,2,3,4]의 숫자로 이루어진 list a를 문자열 list b로 바꾼다.\n",
    "2. 문자열 'hello worid!'에서 world!를 python을 바꾼 문자열 c를 만든다.\n",
    "(삭제). a,b,c,d,e 각 문자를 '12345'로 토큰화한 table t를 생성하고 이를 이용해 cadea를 해석한 tt를 만든다.\n",
    "4. ['c','java','python','veilog','go']로 이루어진 문자열 리스트 d에 각 문자열에 *를 넣은 문자열 d1을 만들고\n",
    "    이를 다시 분리한 d2를 만든다.\n",
    "5. 문자열 banana를 대문자로 전환한 문자열 e를 만든다.\n",
    "6. 주어진 문자열 apple = '  good fruit '에 대해 양쪽 공백을 삭제한 값 f를 만든다.\n",
    "7. banana 문자열에서 na의 위치를 찾고 없으면 -1값을 가지는 변수 g를 만든다.\n",
    "8. banana 문자열 na의 개수를 세서 변수 h에 저장한다."
   ]
  },
  {
   "cell_type": "code",
   "execution_count": 190,
   "id": "576d2b92",
   "metadata": {},
   "outputs": [],
   "source": [
    "#pre-defined variables.\n",
    "a = [1,2,3,4]\n",
    "d = ['c','java','python','veilog','go']\n",
    "hello =  'hello world!'\n",
    "banana = 'banana'\n",
    "apple = ' good fruit '\n",
    "# your code here.\n"
   ]
  },
  {
   "cell_type": "code",
   "execution_count": 192,
   "id": "5b7545f2",
   "metadata": {
    "scrolled": false
   },
   "outputs": [
    {
     "name": "stdout",
     "output_type": "stream",
     "text": [
      "b:  ['1', '2', '3', '4'] True\n",
      "c:  hello python True\n",
      "d1:  c*java*python*veilog*go True\n",
      "d2:  ['c', 'java', 'python', 'veilog', 'go'] True\n",
      "e:  BANANA True\n",
      "f:  good fruit True\n",
      "g:  2 True\n",
      "h:  2 True\n"
     ]
    },
    {
     "data": {
      "text/plain": [
       "\"\\nanswer\\n\\nb = list(map(str,a)) #map함수는 list 요소를 지정된 함수로 일괄 처리하여 map객체로 변환하는 함수임.\\nc = hello.replace('world!','python')\\ntable = str.maketrans('abcde','12345')\\ntt = 'cadea'.translate(table)\\nd1 = '*'.join(d)\\nd2 = d1.split('*')\\ne = banana.upper()\\n\\nf = apple.strip()\\ng = banana.find('na')\\nh = banana.count('na')\\n\""
      ]
     },
     "execution_count": 192,
     "metadata": {},
     "output_type": "execute_result"
    }
   ],
   "source": [
    "\"\"\"\n",
    "test result\n",
    "\"\"\"\n",
    "print('b: ',b,b==['1', '2', '3', '4'])\n",
    "print('c: ',c,c=='hello python')\n",
    "print('d1: ',d1,d1=='c*java*python*veilog*go')\n",
    "print('d2: ',d2,d2==['c', 'java', 'python', 'veilog', 'go'])\n",
    "print('e: ',e,e=='BANANA')\n",
    "print('f: ',f,f=='good fruit')\n",
    "print('g: ',g,g==2)\n",
    "print('h: ',h,h==2)\n",
    "\n",
    "\"\"\"\n",
    "answer\n",
    "\n",
    "b = list(map(str,a)) #map함수는 list 요소를 지정된 함수로 일괄 처리하여 map객체로 변환하는 함수임.\n",
    "c = hello.replace('world!','python')\n",
    "table = str.maketrans('abcde','12345')\n",
    "tt = 'cadea'.translate(table)\n",
    "d1 = '*'.join(d)\n",
    "d2 = d1.split('*')\n",
    "e = banana.upper()\n",
    "\n",
    "f = apple.strip()\n",
    "g = banana.find('na')\n",
    "h = banana.count('na')\n",
    "\"\"\""
   ]
  },
  {
   "cell_type": "markdown",
   "id": "238a9ba3",
   "metadata": {},
   "source": [
    "# Part_8 Set\n",
    "*Tip\n",
    "- 세트는 요소의 순서가 정해져 있지 않으므로, 세트를 출력하면 매번 요소의 순서는 다르게 나옴.\n",
    "- 따라서 아래와 같이 대괄호로 요소 출력 불가함.\n",
    "  : fruits[0] -> error\n",
    "- 세트에 들어가는 요소는 중복될 수 없으며, 중복될 경우 한 개만 포함됨.\n",
    "\n",
    "1. apple, grape, orange 문자를 가지는 set a을 만들기\n",
    "2. 0~4까지 숫자를 가지는 set b을 만들기\n",
    "3. 세트 a에서 banana가 있는지 확인하는 값 a1을 만들기\n",
    "4. b에서 2를 삭제하고 5를 넣기\n",
    "5. 2~8까지 숫자를 가지는 리스트 num을 이용해 set c를 만들기\n",
    "6. set b와 c의 합집합, 교집합, 차집합, 대칭차집합을 각각 d1,d2,d3,d4에 저장\n",
    "7. 3~7까지 숫자를 가지는 set e를 이용해 e가 c의 부분집합, 진부분집합인지 각각 확인하는 값 e1,e2를 만들기"
   ]
  },
  {
   "cell_type": "code",
   "execution_count": 193,
   "id": "3154ff6d",
   "metadata": {
    "scrolled": true
   },
   "outputs": [],
   "source": [
    "num = [i for i in range(2,9)]\n",
    "e = set(range(3,8))\n",
    "#your code here.\n",
    "\n",
    "\n",
    "\n",
    "\n",
    "\n",
    "\n",
    "\n",
    "\n",
    "\n"
   ]
  },
  {
   "cell_type": "code",
   "execution_count": 194,
   "id": "c7640e84",
   "metadata": {
    "scrolled": true
   },
   "outputs": [
    {
     "name": "stdout",
     "output_type": "stream",
     "text": [
      "a:  {'grape', 'apple', 'orange'} True\n",
      "a1:  False True\n",
      "b:  {0, 1, 3, 4, 5} True\n",
      "c:  {2, 3, 4, 5, 6, 7, 8} True\n",
      "d1:  {0, 1, 2, 3, 4, 5, 6, 7, 8} True\n",
      "d2:  {3, 4, 5} True\n",
      "d3:  {0, 1} True\n",
      "d4:  {0, 1, 2, 6, 7, 8} True\n",
      "e1:  True True\n",
      "e2:  True True\n"
     ]
    },
    {
     "data": {
      "text/plain": [
       "\"\\nanswer\\n\\na = {'apple','grape','orange'}\\nb = set(range(5))\\na1 = ('banana' in a)\\nb.remove(2)\\nb.add(5)\\nc = set(num)\\nd1 = b|c\\nd2 = b&c\\nd3 = b-c\\nd4 = b^c\\ne1 = (c>=e)\\ne2 = (c>e)\\n\\n\""
      ]
     },
     "execution_count": 194,
     "metadata": {},
     "output_type": "execute_result"
    }
   ],
   "source": [
    "\"\"\"\n",
    "test result\n",
    "\"\"\"\n",
    "print('a: ',a,a=={'grape', 'apple', 'orange'})\n",
    "print('a1: ',a1,a1==False)\n",
    "print('b: ',b,b=={0, 1, 3, 4, 5})\n",
    "print('c: ',c,c=={2, 3, 4, 5, 6, 7, 8})\n",
    "print('d1: ',d1,d1=={0, 1, 2, 3, 4, 5, 6, 7, 8})\n",
    "print('d2: ',d2,d2=={3, 4, 5})\n",
    "print('d3: ',d3,d3=={0, 1})\n",
    "print('d4: ',d4,d4=={0, 1, 2, 6, 7, 8})\n",
    "print('e1: ',e1,e1==True)\n",
    "print('e2: ',e2,e2==True)\n",
    "\n",
    "\"\"\"\n",
    "answer\n",
    "\n",
    "a = {'apple','grape','orange'}\n",
    "b = set(range(5))\n",
    "a1 = ('banana' in a)\n",
    "b.remove(2)\n",
    "b.add(5)\n",
    "c = set(num)\n",
    "d1 = b|c\n",
    "d2 = b&c\n",
    "d3 = b-c\n",
    "d4 = b^c\n",
    "e1 = (c>=e)\n",
    "e2 = (c>e)\n",
    "\n",
    "\"\"\""
   ]
  },
  {
   "cell_type": "markdown",
   "id": "02732479",
   "metadata": {},
   "source": [
    "# Part_9 Function\n",
    "#TBD"
   ]
  },
  {
   "cell_type": "markdown",
   "id": "8abd7816",
   "metadata": {},
   "source": [
    "# Part_10 Class\n",
    "\n",
    "\"\"\"\n",
    "Class 내의 함수를 메소드라고 함.\n",
    "메소드의 매개변수는 무조건 self가 포함되어야 함.\n",
    "\"\"\"\n",
    "\n",
    "\"\"\"\n",
    "Method 정의\n",
    "- 멤버함수라고도 하여 해당 클래스의 object로만 호출 가능\n",
    "- method는 객체 레벨에서 호출되어, 해당 객체 속성에 대한 연산을 행함.\n",
    "- {obj}.{method}() 형태로 호출 \n",
    "\n",
    "Method type\n",
    "- instance method - 객체로 호출\n",
    ": 메소드는 객체 레벨로 호출되므로 해당 메소드를 호출한 객체에만 영향.\n",
    "- class method - class로 호출\n",
    ": 클래스 메소드의 경우, 클래스 레벨로 호출되므로 클래스 멤버 변수만 변경 가능\n",
    "ex) staticmethod\n",
    "\"\"\"\n",
    "\n",
    "class Person:\n",
    "    def __init__(self, name):\n",
    "        \"\"\"\n",
    "        - 생성자, 클래스 인스턴스가 생성될 때 호출\n",
    "        - self 인자는 항상 첫 번째에 오며 자기 자신을 가리킴.\n",
    "        - 이름이 self일 필요는 없지만 일반적으로 self를 사용함.\n",
    "\n",
    "        - 생성자에서는 해당 클레스가 다루는 데이터를 정의함.\n",
    "        : 이 데이터를 member variable 또는 attribute라고 함.\n",
    "        \"\"\"\n",
    "        self.hello = name+' 안녕하세요.' #속성값\n",
    "        \"\"\"\n",
    "        self\n",
    "        - 파이썬의 method는 항상 첫 번째 인자로 self를 전달\n",
    "        - self는 현재 해당 method가 호출되는 객체 자신을 가리킴\n",
    "        - java에서의 this와 동일.\n",
    "        - 이름이 self일 필요는 없으나 위치는 항상 맨 처음의 parameter임.\n",
    "        \"\"\"\n",
    "\n",
    "\n",
    "    def greeting(self):  \n",
    "        print(self.hello)\n",
    "    @staticmethod\n",
    "    def meaning():\n",
    "        print('인간은 만물의 영장이다.')\n",
    "    def printVariable(self,pro,*listComponent): #가변인자 다루기\n",
    "        print(pro)\n",
    "        print(listComponent)\n",
    "\n",
    "Person.meaning()\n",
    "me = Person('펄펄이')\n",
    "me.greeting() \n",
    "me.printVariable('test','apple','banana','kiwi')\n",
    "you = Person('팔팔이')\n",
    "you.greeting()\n"
   ]
  },
  {
   "cell_type": "markdown",
   "id": "47eacf2d",
   "metadata": {},
   "source": [
    "# Part_11 sort\n",
    "1. 주어진 리스트 a를 오름차순으로 정렬하고, 이를 다시 내림차순을 정렬한 리스트 a1를 반환한다.\n",
    "2. 주어진 리스트 b의 문자열을 띄어쓰기 기준으로 나눈 뒤 사전순으로 정렬한 리스트 b1를 반환한다. (대소문자는 무시한다.) *\n",
    "3. 주어진 리스트 b의 문자열을 띄어쓰기 기준으로 나눈 뒤 길이순으로 정렬한 리스트 b2를 반환한다. *\n",
    "4. set과 sort를 이용해 주어진 리스트 c에 대해 중복을 제거하되, 순서가 무시된 오름차순의 c1과 순서는 유지한 c2를 반환한다."
   ]
  },
  {
   "cell_type": "code",
   "execution_count": 199,
   "id": "3b0c1e63",
   "metadata": {
    "scrolled": true
   },
   "outputs": [],
   "source": [
    "a = [5,4,2,1,3,5,7,3,2,3,4,5]\n",
    "b = \"This is a test string from Andrew\"\n",
    "c = [1,4,3,4,2,1,2,1,2,3,4,5,6,4,2,1,2,]\n",
    "# your code here.\n"
   ]
  },
  {
   "cell_type": "code",
   "execution_count": 200,
   "id": "d5780d0d",
   "metadata": {
    "scrolled": true
   },
   "outputs": [
    {
     "name": "stdout",
     "output_type": "stream",
     "text": [
      "a:  [1, 2, 2, 3, 3, 3, 4, 4, 5, 5, 5, 7] True\n",
      "a1:  [7, 5, 5, 5, 4, 4, 3, 3, 3, 2, 2, 1] True\n",
      "b1:  ['a', 'Andrew', 'from', 'is', 'string', 'test', 'This'] True\n",
      "b2:  ['a', 'is', 'This', 'test', 'from', 'string', 'Andrew'] True\n",
      "c1:  [1, 2, 3, 4, 5, 6] True\n",
      "c2:  [1, 4, 3, 2, 5, 6] True\n"
     ]
    },
    {
     "data": {
      "text/plain": [
       "'\\nanswer\\n\\na.sort() #sort 메소드는 정렬한 결과를 객체에 반영한다. 기본 오름차순\\na1 = sorted(a,reverse=True) \\nb1 = sorted(b.split(), key=str.lower)  # 문자를 소문자로 모두 바꾸어 대소문자를 무시힌다.\\nb2 = sorted(b.split(), key=len)\\nc1 = list(set(c))\\nc2 = list(dict.fromkeys(c))  # python 3.7 dictionary key 넣는 순서를 기억한다.\\n'"
      ]
     },
     "execution_count": 200,
     "metadata": {},
     "output_type": "execute_result"
    }
   ],
   "source": [
    "\"\"\"\n",
    "test result\n",
    "\"\"\"\n",
    "print('a: ',a,a==[1, 2, 2, 3, 3, 3, 4, 4, 5, 5, 5, 7])\n",
    "print('a1: ',a1,a1==[7, 5, 5, 5, 4, 4, 3, 3, 3, 2, 2, 1])\n",
    "print('b1: ',b1, b1==['a', 'Andrew', 'from', 'is', 'string', 'test', 'This'])\n",
    "print('b2: ',b2, b2==['a', 'is', 'This', 'test', 'from', 'string', 'Andrew'])\n",
    "print('c1: ',c1, c1==[1, 2, 3, 4, 5, 6])\n",
    "print('c2: ',c2, c2==[1, 4, 3, 2, 5, 6])\n",
    "\n",
    "\"\"\"\n",
    "answer\n",
    "\n",
    "a.sort() #sort 메소드는 정렬한 결과를 객체에 반영한다. 기본 오름차순\n",
    "a1 = sorted(a,reverse=True) \n",
    "b1 = sorted(b.split(), key=str.lower)  # 문자를 소문자로 모두 바꾸어 대소문자를 무시힌다.\n",
    "b2 = sorted(b.split(), key=len)\n",
    "c1 = list(set(c))\n",
    "c2 = list(dict.fromkeys(c))  # python 3.7 dictionary key 넣는 순서를 기억한다.\n",
    "\"\"\"\n"
   ]
  },
  {
   "cell_type": "markdown",
   "id": "385e5fe9",
   "metadata": {},
   "source": [
    "# Part_12 lambda, filter, reduce\n",
    "람다 표현식 = 익명 함수\n",
    ": 매개변수, 연산자, 값 등을 조합한 식으로 반환값을 만드는 방식.\n",
    "일반적인 함수 만드는 방법은 아래와 같음.\n",
    "\n",
    "def add_one(x):\n",
    "  return x + 1\n",
    "그러나, 이 part에서는 람다함수만 사용해 문제를 풀이.\n",
    "\n",
    "1. 람다함수를 이용해 주어진 리스트 a에 대해,짝수는 그대로 두고 홀수에 대해서만 2를 곱한 리스트 b를 만든다.\n",
    "2. 람다함수를 이용해 주어진 리스트 a와 b에 대해 요소곱 리스트 c를 만든다.\n",
    "3. 람다함수를 이용해 주어진 리스트 a에서 2~7에 해당하는 요소값으로 이루어진 리스트 d를 만든다.\n",
    "4. 람다함수와 reduce 함수를 이용해 리스트 a의 요소합을 구한 값 e를 만든다.\n"
   ]
  },
  {
   "cell_type": "code",
   "execution_count": 203,
   "id": "86726e9a",
   "metadata": {},
   "outputs": [],
   "source": [
    "from functools import reduce\n",
    "a = [1,2,3,4,5,6,7,8,9]\n",
    "# your code here.\n",
    "\n"
   ]
  },
  {
   "cell_type": "code",
   "execution_count": 204,
   "id": "8b568c9d",
   "metadata": {},
   "outputs": [
    {
     "name": "stdout",
     "output_type": "stream",
     "text": [
      "b:  [2, 2, 6, 4, 10, 6, 14, 8, 18] True\n",
      "c:  [2, 4, 18, 16, 50, 36, 98, 64, 162] True\n",
      "d:  [2, 3, 4, 5, 6, 7] True\n",
      "e:  45 True\n"
     ]
    },
    {
     "data": {
      "text/plain": [
       "'\\nanswer\\n\\nfrom functools import reduce\\nb = list(map(lambda x: x if x%2==0 else x*2,a))\\nc = list(map(lambda x,y:x*y,a,b))\\nd = list(filter(lambda x: x>=2 and x<=7,a))\\ne = reduce(lambda x,y:x+y,a) \\n\\n\\n* ref\\n\\nfilter(function, iterator)\\n\\n첫 번째 매개변수 : 필터링을 적용시킬 함수\\n두 번째 매개변수 :  반복 가능한 값\\n\\ndef reduce(function, iterable, initializer=None): \\n    it = iter(iterable) \\n    if initializer is None: \\n        value = next(it) \\n    else: \\n        value = initializer \\n    for element in it: \\n        value = function(value, element) \\n    return value\\n\\n\\n\\n'"
      ]
     },
     "execution_count": 204,
     "metadata": {},
     "output_type": "execute_result"
    }
   ],
   "source": [
    "\"\"\"\n",
    "test result\n",
    "\"\"\"\n",
    "print('b: ',b,b==[2, 2, 6, 4, 10, 6, 14, 8, 18])\n",
    "print('c: ',c,c==[2, 4, 18, 16, 50, 36, 98, 64, 162])\n",
    "print('d: ',d,d==[2, 3, 4, 5, 6, 7])\n",
    "print('e: ',e,e==45)\n",
    "\n",
    "\"\"\"\n",
    "answer\n",
    "\n",
    "from functools import reduce\n",
    "b = list(map(lambda x: x if x%2==0 else x*2,a))\n",
    "c = list(map(lambda x,y:x*y,a,b))\n",
    "d = list(filter(lambda x: x>=2 and x<=7,a))\n",
    "e = reduce(lambda x,y:x+y,a) \n",
    "\n",
    "\n",
    "* ref\n",
    "\n",
    "filter(function, iterator)\n",
    "\n",
    "첫 번째 매개변수 : 필터링을 적용시킬 함수\n",
    "두 번째 매개변수 :  반복 가능한 값\n",
    "return filter 객체\n",
    "\n",
    "def reduce(function, iterable, initializer=None): \n",
    "    it = iter(iterable) \n",
    "    if initializer is None: \n",
    "        value = next(it) \n",
    "    else: \n",
    "        value = initializer \n",
    "    for element in it: \n",
    "        value = function(value, element) \n",
    "    return value\n",
    "\n",
    "\n",
    "\n",
    "\"\"\"\n",
    "\n",
    "\n"
   ]
  },
  {
   "cell_type": "markdown",
   "id": "98e1c047",
   "metadata": {},
   "source": [
    "# Part_13 closure\n",
    "TBD"
   ]
  },
  {
   "cell_type": "markdown",
   "id": "03771355",
   "metadata": {},
   "source": [
    "# Part_14 iterator\n",
    "\n",
    "이터레이터(iterator)는 값을 차례대로 꺼낼 수 있는 객체(object).\n",
    "for i in range(100):은 0부터 99까지 연속된 숫자를 만들어낸다고 했는데,\n",
    "\n",
    "실은 숫자를 모두 만들어 내는 것이 아니라 0부터 99까지 값을 차례대로 꺼낼 수 있는 \n",
    "이터레이터를 하나만 만들어냄. \n",
    "\n",
    "이후 반복할 때마다 이터레이터에서 숫자를 하나씩 꺼내서 반복.\n",
    "만약 연속된 숫자를 미리 만들면 숫자가 적을 때는 상관없지만 숫자가 아주 많을 때는 메모리를 많이 사용하게 됨.\n",
    "\n",
    "그래서 파이썬에서는 이터레이터만 생성하고 값이 필요한 시점이 되었을 때 값을 만드는 방식을 사용. \n",
    "즉, 데이터 생성을 뒤로 미루는 것인데 이런 방식을 지연 평가(lazy evaluation)라고 함.\n",
    "\n",
    "1. 주어진 객체 a가 iterable한지 결과를 반환한 a1를 저장.\n",
    "2. 객체 a의 iterator를 가져와 it에 저장하고 __next__를 통해 다음 객체를 a2에 저장.\n",
    "3. Counter라는 이름을 가진 range와 동일한 연산을 하는 iterator 객체를 만들고, Counter를 이용해 0부터 2까지 요소로 가지는 list b를 저장.\n",
    "4. unpacking을 이용해 0부터 2까지를 변수 c1,c2,c3에 저장.\n",
    "5. Counter_index라는 이름을 가진, range와 동일한 연산을 하나 인덱싱 가능한 iteractor 객체를 만들고 Counter_index(5)를 선언 후 두 번째\n",
    "   요소 값을 d에 저장\n"
   ]
  },
  {
   "cell_type": "code",
   "execution_count": 209,
   "id": "8444cb4b",
   "metadata": {},
   "outputs": [],
   "source": [
    "a = [1,2,3,4]\n",
    "# your code here.\n"
   ]
  },
  {
   "cell_type": "code",
   "execution_count": 210,
   "id": "9eb8603b",
   "metadata": {
    "scrolled": false
   },
   "outputs": [
    {
     "name": "stdout",
     "output_type": "stream",
     "text": [
      "a1:  True True\n",
      "a2:  1 True\n",
      "b:  [0, 1, 2] True\n",
      "c1,c2,c3:  0 1 2 True\n",
      "d:  [2, 3, 4, 5, 6, 7] False\n"
     ]
    },
    {
     "data": {
      "text/plain": [
       "\"\\nanswer\\n\\na1 = '__iter__' in dir(a)\\nit = iter(a)\\na2 = next(it)\\nclass Counter:\\n    def __init__(self,stop):\\n        self.stop = stop\\n        self.curr = 0\\n    def __iter__(self):\\n        return self\\n    def __next__(self):\\n        if self.curr>= self.stop:\\n            raise StopIteration \\n        else : \\n            r = self.curr\\n            self.curr += 1\\n            return r\\nb = [i for i in Counter(3)]\\nc1,c2,c3 = Counter(3)\\n\\nclass Counter_index:\\n    def __init__(self,stop):\\n        self.stop = stop\\n        self.curr = 0\\n    def __iter__(self):\\n        return self\\n    def __next__(self):\\n        if self.curr >= self.stop:\\n            raise StopIteration\\n        else:\\n            r = self.curr\\n            self.curr += 1\\n            return r\\n    def __getitem__(self,idx):\\n        if idx < self.stop:\\n            return idx\\n        else : \\n            raise IndexError\\nd = Counter_index(5)[3]\\n\""
      ]
     },
     "execution_count": 210,
     "metadata": {},
     "output_type": "execute_result"
    }
   ],
   "source": [
    "\"\"\"\n",
    "test result\n",
    "\"\"\"\n",
    "print('a1: ',a1,a1==True)\n",
    "print('a2: ',a2,a2==1)\n",
    "print('b: ',b,b==[0,1,2])\n",
    "print('c1,c2,c3: ',c1,c2,c3,c1==0 and c2==1 and c3==2)\n",
    "print('d: ',d,d==3)\n",
    "\n",
    "\"\"\"\n",
    "answer\n",
    "\n",
    "a1 = '__iter__' in dir(a)\n",
    "it = iter(a)\n",
    "a2 = next(it)\n",
    "class Counter:\n",
    "    def __init__(self,stop):\n",
    "        self.stop = stop\n",
    "        self.curr = 0\n",
    "    def __iter__(self):\n",
    "        return self\n",
    "    def __next__(self):\n",
    "        if self.curr>= self.stop:\n",
    "            raise StopIteration \n",
    "        else : \n",
    "            r = self.curr\n",
    "            self.curr += 1\n",
    "            return r\n",
    "b = [i for i in Counter(3)]\n",
    "c1,c2,c3 = Counter(3)\n",
    "\n",
    "class Counter_index:\n",
    "    def __init__(self,stop):\n",
    "        self.stop = stop\n",
    "        self.curr = 0\n",
    "    def __iter__(self):\n",
    "        return self\n",
    "    def __next__(self):\n",
    "        if self.curr >= self.stop:\n",
    "            raise StopIteration\n",
    "        else:\n",
    "            r = self.curr\n",
    "            self.curr += 1\n",
    "            return r\n",
    "    def __getitem__(self,idx):\n",
    "        if idx < self.stop:\n",
    "            return idx\n",
    "        else : \n",
    "            raise IndexError\n",
    "d = Counter_index(5)[3]\n",
    "\"\"\""
   ]
  },
  {
   "cell_type": "markdown",
   "id": "e201333d",
   "metadata": {},
   "source": [
    "#### Part_15 generator \n",
    "\n",
    "제너레이터는 이터레이터를 생성해주는 함수이다.\n",
    "\n",
    "    \n",
    "1. 제너레이터를 이용해 0~5까지를 요소로 가지는 리스트 a를 만들어라.\n",
    "2. 제너레이터를 이용해 주어진 리스트 b를 모두 대문자로 바꾼 리스트 c를 만들어라.\n",
    "3. yield from을 이용해 주어진 리스트 b의 요소 값을 iteraing 하는 제너레이터를 만들어, 이를 그대로 출력하는 리스트 d를 만들어라."
   ]
  },
  {
   "cell_type": "code",
   "execution_count": 214,
   "id": "2978c69c",
   "metadata": {},
   "outputs": [],
   "source": [
    "b = ['test','is','hard']\n",
    "# your code here.\n"
   ]
  },
  {
   "cell_type": "code",
   "execution_count": 215,
   "id": "fcaf7ead",
   "metadata": {
    "scrolled": true
   },
   "outputs": [
    {
     "name": "stdout",
     "output_type": "stream",
     "text": [
      "a:  [0, 1, 2, 3, 4] True\n",
      "c:  ['TEST', 'IS', 'HARD'] True\n",
      "d:  ['test', 'is', 'hard'] True\n"
     ]
    },
    {
     "data": {
      "text/plain": [
       "'\\nanswer\\n\\ndef count_generator(num):\\n    n = 0\\n    while n<num:\\n        yield n\\n        n += 1\\n\\ndef upper_generator(li):\\n    for i in li:\\n        yield i.upper()\\n        \\ndef iter_generator():\\n    x = iter(b)\\n    yield from x \\n    \\na = [i for i in count_generator(5)]\\nc = [i for i in upper_generator(b)]\\nd = [i for i in iter_generator()]\\n\\n\\n* Tip\\n* 이터레이터(iterator)는 값을 차례대로 꺼낼 수 있는 객체(object).\\n* 이터레이터는 클래스에 __iter__, __next__ 또는 __getitem__ 메서드를 구현해야 하지만\\n* 제너레이터는 함수 안에서 yield 키워드만 사용하면 됨.\\n* 제너레이터는 제너레이터 객체에서 __next__ 메서드를 호출할 때마다 함수 안의 yield까지 코드를 실행하며 yield에서\\n  값을 발생시킴.\\n* yield를 사용하면, *값을 함수 바깥으로 전달하면서 코드 실행을 함수 바깥에 양보함.\\n* yield는 현재 함수를 잠시 중단하고 함수 바깥의 코드가 실행되도록 만듦.   \\n'"
      ]
     },
     "execution_count": 215,
     "metadata": {},
     "output_type": "execute_result"
    }
   ],
   "source": [
    "\"\"\"\n",
    "test result\n",
    "\"\"\"\n",
    "print('a: ',a,a==[0, 1, 2, 3, 4])\n",
    "print('c: ',c,c==['TEST', 'IS', 'HARD'])\n",
    "print('d: ',d,d==['test', 'is', 'hard'])\n",
    "\n",
    "\"\"\"\n",
    "answer\n",
    "\n",
    "def count_generator(num):\n",
    "    n = 0\n",
    "    while n<num:\n",
    "        yield n\n",
    "        n += 1\n",
    "\n",
    "def upper_generator(li):\n",
    "    for i in li:\n",
    "        yield i.upper()\n",
    "        \n",
    "def iter_generator():\n",
    "    x = iter(b)\n",
    "    yield from x \n",
    "    \n",
    "a = [i for i in count_generator(5)]\n",
    "c = [i for i in upper_generator(b)]\n",
    "d = [i for i in iter_generator()]\n",
    "\n",
    "\n",
    "* Tip\n",
    "* 이터레이터(iterator)는 값을 차례대로 꺼낼 수 있는 객체(object).\n",
    "* 이터레이터는 클래스에 __iter__, __next__ 또는 __getitem__ 메서드를 구현해야 하지만\n",
    "* 제너레이터는 함수 안에서 yield 키워드만 사용하면 됨.\n",
    "* 제너레이터는 제너레이터 객체에서 __next__ 메서드를 호출할 때마다 함수 안의 yield까지 코드를 실행하며 yield에서\n",
    "  값을 발생시킴.\n",
    "* yield를 사용하면, *값을 함수 바깥으로 전달하면서 코드 실행을 함수 바깥에 양보함.\n",
    "* yield는 현재 함수를 잠시 중단하고 함수 바깥의 코드가 실행되도록 만듦.   \n",
    "\"\"\""
   ]
  }
 ],
 "metadata": {
  "kernelspec": {
   "display_name": "Python 3",
   "language": "python",
   "name": "python3"
  },
  "language_info": {
   "codemirror_mode": {
    "name": "ipython",
    "version": 3
   },
   "file_extension": ".py",
   "mimetype": "text/x-python",
   "name": "python",
   "nbconvert_exporter": "python",
   "pygments_lexer": "ipython3",
   "version": "3.8.8"
  }
 },
 "nbformat": 4,
 "nbformat_minor": 5
}
