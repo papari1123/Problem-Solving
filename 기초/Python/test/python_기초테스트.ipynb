{
 "cells": [
  {
   "cell_type": "markdown",
   "id": "a1034d4d",
   "metadata": {},
   "source": [
    "# Part_1 Input, Out\n",
    "\n",
    "1. 한줄 code로 특정 입력값을 a,b 두 개의 변수에 저장하기.\n",
    "2. map을 사용해, c,d,e 세 개의 변수를 한 번에 입력받아 int형식으로 저장하기.\n",
    "3. 2와 동일하되, c1,d1,e1 분리하는 문자열을 _로 지정해 받기\n",
    "4. 값을 한줄로 여러 개 동시에 출력하기'\n",
    "5. 4와 동일하되, 출력값 사이에 문자를 _로 지정하고 print 끝에 0 출력'b"
   ]
  },
  {
   "cell_type": "code",
   "execution_count": 2,
   "id": "3642b709",
   "metadata": {},
   "outputs": [
    {
     "name": "stdout",
     "output_type": "stream",
     "text": [
      "1 2\n",
      "1 2 3\n",
      "4_5_6\n"
     ]
    }
   ],
   "source": [
    "# your code here.\n"
   ]
  },
  {
   "cell_type": "code",
   "execution_count": 3,
   "id": "72feed35",
   "metadata": {},
   "outputs": [
    {
     "name": "stdout",
     "output_type": "stream",
     "text": [
      "1: a,b  1 2\n",
      "2: c,d,e 1 2 3\n",
      "3: c1,d1,e1 4 5 6\n"
     ]
    }
   ],
   "source": [
    "\"\"\"\n",
    "test result\n",
    "\"\"\"\n",
    "print('1: a,b ',a,b)\n",
    "print('2: c,d,e',c,d,e)\n",
    "print('3: c1,d1,e1',c1,d1,e1)"
   ]
  },
  {
   "cell_type": "markdown",
   "id": "da6ef9f5",
   "metadata": {},
   "source": [
    "# Part _2 List, Tuple\n",
    "\n",
    "1. 0~9까지 리스트 a 생성 (수기작성 하지말 것)\n",
    "2. 0~9까지 듀플 b 생성\n",
    "3. 리스트 a에 요소 5 추가\n",
    "4. 리스트 a에 리스트 확장 : [10,12] *리스트가 요소에 추가되는게 아니라 확장임.\n",
    "5. 리스트 a의 2 번째 인덱스에 100추가\n",
    "6. 리스트 a의 4 번째 인덱스부터 200,300을 동시에 추가 * 리스트 [200,300]를 추가하는 것이 아님.\n",
    "7. 리스트 a의 마지막 요소 삭제.\n",
    "8. 리스트 a의 0 번째 요소 삭제 \n",
    "9. 리스트 a의 200 값 삭제 (특정값 삭제)\n",
    "\n",
    "10. 리스트를 활용해 stack을 구현한다. 리스트 s를 이용해 1,2,3을 차례로 push 하고, pop을 한 번한다.\n",
    "11. 리스트를 활용해 queue를 구현한다. 리스트 q를 이용해 1,2,3을 차례로 put 하고, get을 한 번한다.\n",
    "12. 리스트와 deque lib를 활용해 deque를 구현한다. 리스트 d를 이용해 1,2,3을 차례로 put하고, 앞 뒤로 한 번씩 삭제한다.\n",
    "13. 리스트 a의 5 번째 값과 5의 개수를 카운트한다.\n",
    "14. 리스트 a를 a1에 할당하고, a를 복사해 a2를 만든 뒤, a의 6 번째 요소를 제거한다.\n",
    "15. a==b 및 a is b 조건 연산자를 이용해 a,a1,a2가 서로 동일한 객체인지, 값이 동일한지 확인한다.\n",
    "16. 리스트 a의 인덱스와 요소값을 리스트로 출력할 수 있는 이중리스트 aa를 구현한다. 0번째 요소는 제외하고 출력\n",
    "17. list comprehension을 이용해 0~10에서 짝홀을 하나씩 골라 만든 모든 subset을 가진 리스트 c를 생성한다. * 순서는 [0,1],[2,1]..[8,9]\n",
    "18. list comprehension을 이용해 0~10에서 홀수/2의 요소만을 가진 리스트 d를 생성하고 이를 내림한 리스트 e를 생성한다."
   ]
  },
  {
   "cell_type": "code",
   "execution_count": 67,
   "id": "be69a912",
   "metadata": {},
   "outputs": [
    {
     "name": "stdout",
     "output_type": "stream",
     "text": [
      "4 2\n",
      "True False False True False False\n"
     ]
    }
   ],
   "source": [
    "# your code here.\n"
   ]
  },
  {
   "cell_type": "code",
   "execution_count": 68,
   "id": "40a7c3b3",
   "metadata": {},
   "outputs": [
    {
     "name": "stdout",
     "output_type": "stream",
     "text": [
      "a:  [1, 100, 2, 300, 3, 4, 6, 7, 8, 9, 5, 10] True\n",
      "b:  (0, 1, 2, 3, 4, 5, 6, 7, 8, 9) True\n",
      "s,q,d [1, 2] [2, 3] [0.5, 1.5, 2.5, 3.5, 4.5] True True False\n",
      "a1:  [1, 100, 2, 300, 3, 4, 6, 7, 8, 9, 5, 10] True\n",
      "a2:  [1, 100, 2, 300, 3, 4, 5, 6, 7, 8, 9, 5, 10] True\n",
      "aa:  [[1, 1], [2, 100], [3, 2], [4, 300], [5, 3], [6, 4], [7, 6], [8, 7], [9, 8], [10, 9], [11, 5], [12, 10]] True\n",
      "c:  [[0, 1], [0, 3], [0, 5], [0, 7], [0, 9], [2, 1], [2, 3], [2, 5], [2, 7], [2, 9], [4, 1], [4, 3], [4, 5], [4, 7], [4, 9], [6, 1], [6, 3], [6, 5], [6, 7], [6, 9], [8, 1], [8, 3], [8, 5], [8, 7], [8, 9]] True\n",
      "d:  [0.5, 1.5, 2.5, 3.5, 4.5] True\n",
      "e:  [0, 1, 2, 3, 4] True\n"
     ]
    },
    {
     "data": {
      "text/plain": [
       "'\\nanswer\\n\\n)\\n'"
      ]
     },
     "execution_count": 68,
     "metadata": {},
     "output_type": "execute_result"
    }
   ],
   "source": [
    "\"\"\"\n",
    "test result\n",
    "\"\"\"\n",
    "print('a: ',a,a==[1, 100, 2, 300, 3, 4, 6, 7, 8, 9, 5, 10])\n",
    "print('b: ',b,b==(0, 1, 2, 3, 4, 5, 6, 7, 8, 9)) \n",
    "print('s,q,d',s,q,d, s==[1,2],q==[2,3],d==deque([2]))\n",
    "print('a1: ',a1,a1==[1, 100, 2, 300, 3, 4, 6, 7, 8, 9, 5, 10])\n",
    "print('a2: ',a2,a2==[1, 100, 2, 300, 3, 4, 5, 6, 7, 8, 9, 5, 10])\n",
    "print('aa: ',aa,aa==[[1, 1], [2, 100], [3, 2], [4, 300], [5, 3], [6, 4], [7, 6], [8, 7], [9, 8], [10, 9], [11, 5], [12, 10]])\n",
    "print('c: ',c ,c==[[0, 1], [0, 3], [0, 5], [0, 7], [0, 9], [2, 1], [2, 3], [2, 5], [2, 7], [2, 9], [4, 1], [4, 3], [4, 5], [4, 7], [4, 9], [6, 1], [6, 3], [6, 5], [6, 7], [6, 9], [8, 1], [8, 3], [8, 5], [8, 7], [8, 9]])\n",
    "print('d: ',d, d==[0.5, 1.5, 2.5, 3.5, 4.5])\n",
    "print('e: ',e, e==[0, 1, 2, 3, 4])\n",
    "\n",
    "\"\"\"\n",
    "answer\n",
    "\n",
    "from collections import deque\n",
    "a = [i for i in range(10)]\n",
    "b = tuple(i for i in range(10))\n",
    "a.append(5)\n",
    "a.extend([10,12])\n",
    "a.insert(2,100)\n",
    "a[4:4] = [200,300]\n",
    "a.pop()\n",
    "a.pop(0)\n",
    "a.remove(200)\n",
    "s = []\n",
    "s.append(1)\n",
    "s.append(2)\n",
    "s.append(3)\n",
    "s.pop()\n",
    "q = []\n",
    "q.append(1)\n",
    "q.append(2)\n",
    "q.append(3)\n",
    "q.pop(0)\n",
    "d = deque([])\n",
    "d.append(1)\n",
    "d.append(2)\n",
    "d.append(3)\n",
    "d.popleft()\n",
    "d.pop()\n",
    "print(a[5],a.count(5))\n",
    "a1 = a\n",
    "a2 = a.copy()\n",
    "a.pop(6)\n",
    "print(a==a1,a==a2,a1==a2,a is a1, a is a2, a1 is a2)\n",
    "aa = [[i,v] for i,v in enumerate(a,start=1)]\n",
    "c = [[i,j] for i in range(0,10) if i%2==0 for j in range(0,10) if j%2==1]\n",
    "d = [i/2 for i in range(0,10) if i%2==1]\n",
    "e = list(map(int,d))\n",
    "\"\"\"\n",
    "\n"
   ]
  },
  {
   "cell_type": "markdown",
   "id": "34503478",
   "metadata": {},
   "source": [
    "# Part_3 Sequence, Slice\n",
    "1. 0~9까지 가지는 리스트 a를 만들고 5가 있고, 15가 없는지 확인하는 조건 연산자를 이용해 결과를 a5,a15에 저장\n",
    "2. 10~19까지 가지는 리스트 b를 만들고 a와 b의 시퀀스 객체를 병합해 c에 할당\n",
    "3. c의 시퀀스 길이를 len_c에 저장\n",
    "4. c의 마지막 요소를 last_c에 저장\n",
    "5. 슬라이싱을 이용해 리스트 c의 인덱스 2~5, 3~마지막제외, 2부터 12까지나 2씩 증가, 2부터 끝까지, 0번째부터 8까지, 2부터 2씩 끝까지\n",
    "   각각 c1,c2,c3,c4,c5,c6에 저장\n",
    "6. c에서 2~5번째 인덱스 요소 제거."
   ]
  },
  {
   "cell_type": "code",
   "execution_count": 80,
   "id": "41e0e266",
   "metadata": {},
   "outputs": [],
   "source": [
    "#your code here.\n"
   ]
  },
  {
   "cell_type": "code",
   "execution_count": 81,
   "id": "65ec4748",
   "metadata": {},
   "outputs": [
    {
     "name": "stdout",
     "output_type": "stream",
     "text": [
      "a5,a15:  True True\n",
      "c:  [0, 1, 6, 7, 8, 9, 10, 11, 12, 13, 14, 15, 16, 17, 18, 19] True\n",
      "len_c,last_c:  20 19 True True\n",
      "c1  [2, 3, 4, 5] True\n",
      "c2  [3, 4, 5, 6, 7, 8, 9, 10, 11, 12, 13, 14, 15, 16, 17, 18] True\n",
      "c3  [2, 4, 6, 8, 10] True\n",
      "c4  [2, 3, 4, 5, 6, 7, 8, 9, 10, 11, 12, 13, 14, 15, 16, 17, 18, 19] True\n",
      "c5  [0, 1, 2, 3, 4, 5, 6, 7] True\n",
      "c6  [2, 4, 6, 8, 10, 12, 14, 16, 18] True\n"
     ]
    }
   ],
   "source": [
    "\"\"\"\n",
    "test result\n",
    "\"\"\"\n",
    "print('a5,a15: ',a5,a15)\n",
    "print('c: ',c,c==[0, 1, 6, 7, 8, 9, 10, 11, 12, 13, 14, 15, 16, 17, 18, 19])\n",
    "print('len_c,last_c: ',len_c,last_c,len_c==20,last_c==19)\n",
    "print('c1 ',c1,c1==[2, 3, 4, 5])\n",
    "print('c2 ',c2,c2==[3, 4, 5, 6, 7, 8, 9, 10, 11, 12, 13, 14, 15, 16, 17, 18])\n",
    "print('c3 ',c3,c3==[2, 4, 6, 8, 10])\n",
    "print('c4 ',c4,c4==[2, 3, 4, 5, 6, 7, 8, 9, 10, 11, 12, 13, 14, 15, 16, 17, 18, 19])\n",
    "print('c5 ',c5,c5==[0, 1, 2, 3, 4, 5, 6, 7])\n",
    "print('c6 ',c6,c6==[2, 4, 6, 8, 10, 12, 14, 16, 18])\n",
    "\n",
    "\"\"\"\n",
    "answer\n",
    "\n",
    "#your code here.\n",
    "a = list(range(0,10)) #list comprehension을 이용해도 됨.\n",
    "a5 = 5 in a\n",
    "a15 = 15 not in a\n",
    "b = list(range(10,20))\n",
    "c = a + b\n",
    "len_c = len(c)\n",
    "last_c = c[-1]\n",
    "c1 = c[2:6]\n",
    "c2 = c[3:-1]\n",
    "c3 = c[2:12:2]\n",
    "c4 = c[2:]\n",
    "c5 = c[:8]\n",
    "c6 = c[2::2]\n",
    "del c[2:6]\n",
    "\"\"\""
   ]
  },
  {
   "cell_type": "markdown",
   "id": "867b77e5",
   "metadata": {},
   "source": [
    "# Part_4 dictionary\n",
    "1. dictionary a를 생성. key:값  ->  c:1, java:2, python:3\n",
    "2. dict a에 값이 할당되지 않은 키 값 cpp와 4가 할당된 go를 추가\n",
    "3. dict a에서 cpp값에 5를 할당하고, 새로운 key:value 4:'four'를 추가\n",
    "4. dict a에서 java의 키를 가지는 요소를 삭제\n",
    "5. dict a에서 verilog를 키로 가지는 값을 출력하되, 없으면 6을 가지는 a1값 생성\n",
    "6. dict a에서 모든 key-value 쌍, key, value를 각각 list kv, k, v에 할당.\n",
    "7. A,B,C,D 요소를 가진 list b 생성 후, list b를 키값 리스트로 가지되, 각 요소의 인덱스값을 값으로 하는 dict c 생성\n",
    "8. list b를 key로 하고 1,3,6,9를 요소로 가지는 list bv를 value로 하는 dict d 생성"
   ]
  },
  {
   "cell_type": "code",
   "execution_count": 106,
   "id": "99939ce3",
   "metadata": {},
   "outputs": [],
   "source": [
    "#your code here.\n"
   ]
  },
  {
   "cell_type": "code",
   "execution_count": 108,
   "id": "a96b42ff",
   "metadata": {},
   "outputs": [
    {
     "name": "stdout",
     "output_type": "stream",
     "text": [
      "a:  {'c': 1, 'python': 3, 'cpp': 5, 'go': 4, 4: 'four'} True\n",
      "a1:  6 True\n",
      "kv:  [('c', 1), ('python', 3), ('cpp', 5), ('go', 4), (4, 'four')] True\n",
      "k:  ['c', 'python', 'cpp', 'go', 4] True\n",
      "v:  [1, 3, 5, 4, 'four'] True\n",
      "c:  {'A': 0, 'B': 1, 'C': 2, 'D': 3} True\n",
      "d:  {'A': 1, 'B': 3, 'C': 6, 'D': 8} False\n"
     ]
    },
    {
     "data": {
      "text/plain": [
       "\"\\nanswer\\n\\na= {'c':1,'java':2,'python':3}\\na.setdefault('cpp')\\na.setdefault('go',4)\\na.update({'cpp':5,4:'four'})  # a['cpp'] =4 도 동일\\na.pop('java')\\na1 = a.get('verilog',6)\\nkv = list(a.items())\\nk = list(a.keys())\\nv = list(a.values())\\nb = ['A','B','C','D']\\nc = {key:value for value, key in enumerate(b)} \\nbv = [1,3,6,9]\\nd = dict(zip(b,bv))    \\n\\n\""
      ]
     },
     "execution_count": 108,
     "metadata": {},
     "output_type": "execute_result"
    }
   ],
   "source": [
    "\"\"\"\n",
    "test result\n",
    "\"\"\"\n",
    "print('a: ',a,a=={'c': 1, 'python': 3, 'cpp': 5, 'go': 4, 4: 'four'})\n",
    "print('a1: ',a1,a1==6)\n",
    "print('kv: ',kv, kv==[('c', 1), ('python', 3), ('cpp', 5), ('go', 4), (4, 'four')])\n",
    "print('k: ',k,k==['c', 'python', 'cpp', 'go', 4])\n",
    "print('v: ',v,v==[1, 3, 5, 4, 'four'])\n",
    "print('c: ',c,c=={'A': 0, 'B': 1, 'C': 2, 'D': 3})\n",
    "print('d: ',d,d=={'A': 1, 'B': 3, 'C': 6, 'D': 9})\n",
    "\n",
    "\"\"\"\n",
    "answer\n",
    "\n",
    "a= {'c':1,'java':2,'python':3}\n",
    "a.setdefault('cpp')\n",
    "a.setdefault('go',4)\n",
    "a.update({'cpp':5,4:'four'})  # a['cpp'] =4 도 동일\n",
    "a.pop('java')\n",
    "a1 = a.get('verilog',6)\n",
    "kv = list(a.items())\n",
    "k = list(a.keys())\n",
    "v = list(a.values())\n",
    "b = ['A','B','C','D']\n",
    "c = {key:value for value, key in enumerate(b)} \n",
    "bv = [1,3,6,9]\n",
    "d = dict(zip(b,bv))    \n",
    "\n",
    "\"\"\""
   ]
  },
  {
   "cell_type": "code",
   "execution_count": null,
   "id": "e10cd18f",
   "metadata": {},
   "outputs": [],
   "source": [
    "# Part_5 for range\n",
    "1. for과 range를 이용해 10부터 2씩 감소해 0까지 값을 리스트 a에 저장\n",
    "2. reversed 를 이용해 9부터 0까지 값을 리스트 b에 저장\n",
    "3. 시퀀스 객체인 리스트 a를 이용해 리스트 c의 요소를 append."
   ]
  },
  {
   "cell_type": "code",
   "execution_count": 5,
   "id": "8b9bf82c",
   "metadata": {},
   "outputs": [],
   "source": [
    "# your code here.\n"
   ]
  },
  {
   "cell_type": "code",
   "execution_count": 6,
   "id": "3d3b2240",
   "metadata": {},
   "outputs": [
    {
     "name": "stdout",
     "output_type": "stream",
     "text": [
      "a:  [10, 8, 6, 4, 2, 0]\n",
      "b:  [9, 8, 7, 6, 5, 4, 3, 2, 1, 0]\n",
      "c:  [10, 8, 6, 4, 2, 0]\n"
     ]
    }
   ],
   "source": [
    "\"\"\"\n",
    "test result\n",
    "\"\"\"\n",
    "print('a: ',a, a== [10, 8, 6, 4, 2, 0])\n",
    "print('b: ',b, b== [9, 8, 7, 6, 5, 4, 3, 2, 1, 0])\n",
    "print('c: ',c, c== [10, 8, 6, 4, 2, 0])\n",
    "\n",
    "\"\"\"\n",
    "answer\n",
    "\n",
    "a = []\n",
    "b = []\n",
    "c = []\n",
    "for i in range(10,-1,-2):\n",
    "    a.append(i)\n",
    "for i in reversed(range(10)):\n",
    "    b.append(i)\n",
    "for i in a:\n",
    "    c.append(i)\n",
    "\"\"\""
   ]
  },
  {
   "cell_type": "markdown",
   "id": "f4711058",
   "metadata": {},
   "source": [
    "# Part_6 multi dimensional array\n",
    "1. list comprehension을 이용해 [[1,2],[3,4],[5,6]] 리스트 a 생성.\n",
    "2. list comprehension을 이용 리스트 a의 요소 순서를 바꾼 [[2,1],[4,3],[6,5]] 리스트 b 생성\n",
    "3. list comprehension을 이용해 3x5로 모든 요소가 0의 값을 가지는 2차원 리스트 c 생성\n",
    "4. list comprehension을 이용해 행렬 인덱스 i,j를 더한 값을 요소로 가지는 3x5 2차원 리스트 d 생성\n",
    "5. 단순 객체복제와 얕은 복사, 그리고 깊은 복사를 알기 위해 [1,'a',[1,2,3,4],[1,2]] 리스트 e를 생성하고,\n",
    "   이 e를 객체 복제한 e1, 얕은 복사한 e2, 깊은 복사한 e3를 만든다.\n",
    "   리스트 e를 [2,[1,2,3],[1,2,3]]으로 변경하되, e[2] = [1,2,3], e[3]append(3) 을 이용한다."
   ]
  },
  {
   "cell_type": "code",
   "execution_count": 32,
   "id": "aa088564",
   "metadata": {
    "scrolled": true
   },
   "outputs": [],
   "source": [
    "import copy\n",
    "a = [[2*i+1,2*(i+1)] for i in range(3)]\n",
    "b = [[x,y] for y,x in a]\n",
    "c = [[0]*5 for _ in range(3)]\n",
    "d = [[i+j for j in range(5)] for i in range(3)]\n",
    "e = [1,'a',[1,2,3,4],[1,2]]\n",
    "e1 = e\n",
    "e2 = copy.copy(e)\n",
    "e3 = copy.deepcopy(e)\n",
    "e[0] = 2\n",
    "e[2] = [1,2,3]\n",
    "e[3].append(3)\n",
    "e.remove('a')\n"
   ]
  },
  {
   "cell_type": "code",
   "execution_count": 33,
   "id": "2a8314d4",
   "metadata": {},
   "outputs": [
    {
     "name": "stdout",
     "output_type": "stream",
     "text": [
      "a:  [[1, 2], [3, 4], [5, 6]] True\n",
      "b:  [[2, 1], [4, 3], [6, 5]] True\n",
      "c:  [[0, 0, 0, 0, 0], [0, 0, 0, 0, 0], [0, 0, 0, 0, 0]]\n",
      "d:  [[0, 1, 2, 3, 4], [1, 2, 3, 4, 5], [2, 3, 4, 5, 6]]\n",
      "e:  [2, [1, 2, 3], [1, 2, 3]]\n",
      "e1:  [2, [1, 2, 3], [1, 2, 3]]\n",
      "e2:  [1, 'a', [1, 2, 3, 4], [1, 2, 3]]\n",
      "e3:  [1, 'a', [1, 2, 3, 4], [1, 2]]\n"
     ]
    }
   ],
   "source": [
    "\"\"\"\n",
    "test result\n",
    "\"\"\"\n",
    "print('a: ',a,a==[[1, 2], [3, 4], [5, 6]])\n",
    "print('b: ',b,b==[[2, 1], [4, 3], [6, 5]])\n",
    "print('c: ',c)\n",
    "print('d: ',d)\n",
    "print('e: ',e)\n",
    "print('e1: ',e1)\n",
    "print('e2: ',e2)\n",
    "print('e3: ',e3)"
   ]
  },
  {
   "cell_type": "code",
   "execution_count": null,
   "id": "42499bfa",
   "metadata": {},
   "outputs": [],
   "source": [
    "# Part_7 Character, string\n",
    "\n",
    "# -*- coding: utf-8 -*-\n",
    "print('00. 문자열이 아닌 자료형의 변환')\n",
    "de = 'test' + str(2.5)\n",
    "\n",
    "print('01 문자열 바꾸기')\n",
    "print('hello world!'.replace('world!','python'))\n",
    "\n",
    "print('02 문자 바꾸기')\n",
    "table = str.maketrans('abcde','12345') # abcde 각 문자를 12345로 변환하는 table을 생성\n",
    "a = 'apple'.translate(table)\n",
    "print(a)\n",
    "\n",
    "print('03 문자열 결합 및 분리')\n",
    "t = ['c','java','python','veilog','go']\n",
    "t1 =' '.join(t)\n",
    "t2 = '-'.join(t)\n",
    "print(t1)\n",
    "print(t2)\n",
    "t3 = t1.split()\n",
    "t4 = t2.split('--')\n",
    "print(t3[2])\n",
    "print(t3)\n",
    "print(t4)\n",
    "\n",
    "print('04 문자열 연결')\n",
    "d ='$'.join(t)\n",
    "print(d)\n",
    "\n",
    "print('05 대문자와 소문자 전환')\n",
    "p = 'python'\n",
    "print(p.upper())\n",
    "print(p.lower())\n",
    "\n",
    "print('06 공백 삭제')\n",
    "test = '   a b c   '\n",
    "print(test.lstrip()) #왼쪽 공백 삭제\n",
    "print(test.rstrip()) #오른쪽 공백 삭제\n",
    "print(test.strip()) #양쪽 공백 삭제\n",
    "\n",
    "print('07 zero 채우기')\n",
    "print('55'.zfill(2)) # 숫자 앞에 0을 2개 채움\n",
    "\n",
    "print('08 문자열 위치 찾기')\n",
    "test = 'pencil pen'\n",
    "print(test.find('pe')) #찾는게 없으면 -1 반환\n",
    "\n",
    "print('09 문자열 개수 세기')\n",
    "print(test.count('pe'))\n",
    "\n",
    "print('10 문자열 길이 구하기')\n",
    "print(len(test))\n"
   ]
  }
 ],
 "metadata": {
  "kernelspec": {
   "display_name": "Python 3",
   "language": "python",
   "name": "python3"
  },
  "language_info": {
   "codemirror_mode": {
    "name": "ipython",
    "version": 3
   },
   "file_extension": ".py",
   "mimetype": "text/x-python",
   "name": "python",
   "nbconvert_exporter": "python",
   "pygments_lexer": "ipython3",
   "version": "3.8.8"
  }
 },
 "nbformat": 4,
 "nbformat_minor": 5
}
